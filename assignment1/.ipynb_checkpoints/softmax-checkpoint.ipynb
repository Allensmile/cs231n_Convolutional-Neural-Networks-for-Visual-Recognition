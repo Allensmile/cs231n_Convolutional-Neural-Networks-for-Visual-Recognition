{
 "cells": [
  {
   "cell_type": "markdown",
   "metadata": {},
   "source": [
    "# Softmax exercise\n",
    "\n",
    "*Complete and hand in this completed worksheet (including its outputs and any supporting code outside of the worksheet) with your assignment submission. For more details see the [assignments page](http://vision.stanford.edu/teaching/cs231n/assignments.html) on the course website.*\n",
    "\n",
    "This exercise is analogous to the SVM exercise. You will:\n",
    "\n",
    "- implement a fully-vectorized **loss function** for the Softmax classifier\n",
    "- implement the fully-vectorized expression for its **analytic gradient**\n",
    "- **check your implementation** with numerical gradient\n",
    "- use a validation set to **tune the learning rate and regularization** strength\n",
    "- **optimize** the loss function with **SGD**\n",
    "- **visualize** the final learned weights\n"
   ]
  },
  {
   "cell_type": "code",
   "execution_count": 36,
   "metadata": {
    "collapsed": false
   },
   "outputs": [
    {
     "name": "stdout",
     "output_type": "stream",
     "text": [
      "start...\n",
      "The autoreload extension is already loaded. To reload it, use:\n",
      "  %reload_ext autoreload\n",
      "end...\n"
     ]
    }
   ],
   "source": [
    "print(\"start...\")\n",
    "import random\n",
    "import numpy as np\n",
    "from cs231n.data_utils import load_CIFAR10\n",
    "import matplotlib.pyplot as plt\n",
    "%matplotlib inline\n",
    "plt.rcParams['figure.figsize'] = (10.0, 8.0) # set default size of plots\n",
    "plt.rcParams['image.interpolation'] = 'nearest'\n",
    "plt.rcParams['image.cmap'] = 'gray'\n",
    "\n",
    "# for auto-reloading extenrnal modules\n",
    "# see http://stackoverflow.com/questions/1907993/autoreload-of-modules-in-ipython\n",
    "%load_ext autoreload\n",
    "%autoreload 2\n",
    "print(\"end...\")"
   ]
  },
  {
   "cell_type": "code",
   "execution_count": 37,
   "metadata": {
    "collapsed": false
   },
   "outputs": [
    {
     "name": "stdout",
     "output_type": "stream",
     "text": [
      "start...\n",
      "Train data shape:  (49000L, 3073L)\n",
      "Train labels shape:  (49000L,)\n",
      "Validation data shape:  (1000L, 3073L)\n",
      "Validation labels shape:  (1000L,)\n",
      "Test data shape:  (1000L, 3073L)\n",
      "Test labels shape:  (1000L,)\n",
      "dev data shape:  (500L, 3073L)\n",
      "dev labels shape:  (500L,)\n",
      "end...\n"
     ]
    }
   ],
   "source": [
    "print(\"start...\")\n",
    "def get_CIFAR10_data(num_training=49000, num_validation=1000, num_test=1000, num_dev=500):\n",
    "  \"\"\"\n",
    "  Load the CIFAR-10 dataset from disk and perform preprocessing to prepare\n",
    "  it for the linear classifier. These are the same steps as we used for the\n",
    "  SVM, but condensed to a single function.  \n",
    "  \"\"\"\n",
    "  # 1.Load the raw CIFAR-10 data\n",
    "  cifar10_dir = 'cs231n/datasets/cifar-10-batches-py'\n",
    "  X_train, y_train, X_test, y_test = load_CIFAR10(cifar10_dir)\n",
    "  \n",
    "  # 2.subsample the data\n",
    "  mask = range(num_training, num_training + num_validation)\n",
    "  X_val = X_train[mask]\n",
    "  y_val = y_train[mask]\n",
    "  mask = range(num_training)\n",
    "  X_train = X_train[mask]\n",
    "  y_train = y_train[mask]\n",
    "  mask = range(num_test)\n",
    "  X_test = X_test[mask]\n",
    "  y_test = y_test[mask]\n",
    "  mask = np.random.choice(num_training, num_dev, replace=False)\n",
    "  X_dev = X_train[mask]\n",
    "  y_dev = y_train[mask]\n",
    "  \n",
    "  # 3.Preprocessing: reshape the image data into rows\n",
    "  X_train = np.reshape(X_train, (X_train.shape[0], -1)) #equals to np.reshap(X_train,(shape0,shape1*shape2*shape3))\n",
    "  X_val = np.reshape(X_val, (X_val.shape[0], -1))\n",
    "  X_test = np.reshape(X_test, (X_test.shape[0], -1))\n",
    "  X_dev = np.reshape(X_dev, (X_dev.shape[0], -1))\n",
    "  \n",
    "  # 4.Normalize the data: subtract the mean image\n",
    "  mean_image = np.mean(X_train, axis = 0) #sum for each column(each column as feature)\n",
    "  X_train -= mean_image\n",
    "  X_val -= mean_image\n",
    "  X_test -= mean_image\n",
    "  X_dev -= mean_image\n",
    "  \n",
    "  # 5.add bias dimension and transform into columns\n",
    "  X_train = np.hstack([X_train, np.ones((X_train.shape[0], 1))])\n",
    "  X_val = np.hstack([X_val, np.ones((X_val.shape[0], 1))])\n",
    "  X_test = np.hstack([X_test, np.ones((X_test.shape[0], 1))])\n",
    "  X_dev = np.hstack([X_dev, np.ones((X_dev.shape[0], 1))])\n",
    "  \n",
    "  return X_train, y_train, X_val, y_val, X_test, y_test, X_dev, y_dev\n",
    "\n",
    "\n",
    "# Invoke the above function to get our data.\n",
    "X_train, y_train, X_val, y_val, X_test, y_test, X_dev, y_dev = get_CIFAR10_data()\n",
    "print 'Train data shape: ', X_train.shape\n",
    "print 'Train labels shape: ', y_train.shape\n",
    "print 'Validation data shape: ', X_val.shape\n",
    "print 'Validation labels shape: ', y_val.shape\n",
    "print 'Test data shape: ', X_test.shape\n",
    "print 'Test labels shape: ', y_test.shape\n",
    "print 'dev data shape: ', X_dev.shape\n",
    "print 'dev labels shape: ', y_dev.shape\n",
    "print(\"end...\")"
   ]
  },
  {
   "cell_type": "markdown",
   "metadata": {},
   "source": [
    "## Softmax Classifier\n",
    "\n",
    "Your code for this section will all be written inside **cs231n/classifiers/softmax.py**. \n"
   ]
  },
  {
   "cell_type": "code",
   "execution_count": 38,
   "metadata": {
    "collapsed": false
   },
   "outputs": [
    {
     "name": "stdout",
     "output_type": "stream",
     "text": [
      "start...\n",
      "('loss:', 2.3216499042553709)\n",
      "loss: 2.321650\n",
      "sanity check: 2.302585\n",
      "end...\n"
     ]
    }
   ],
   "source": [
    "# First implement the naive softmax loss function with nested loops.(loop with loop---->two loops)\n",
    "# Open the file cs231n/classifiers/softmax.py and implement the\n",
    "# softmax_loss_naive function.\n",
    "print(\"start...\")\n",
    "from cs231n.classifiers.softmax import softmax_loss_naive\n",
    "from cs231n.classifiers.softmax import softmax_loss_vectorized\n",
    "import time\n",
    "\n",
    "# Generate a random softmax weight matrix and use it to compute the loss.\n",
    "W = np.random.randn(3073, 10) * 0.0001\n",
    "loss, grad = softmax_loss_naive(W, X_dev, y_dev, 0.0)\n",
    "print(\"loss:\",loss)\n",
    "\n",
    "# As a rough sanity check, our loss should be something close to -log(0.1).\n",
    "print 'loss: %f' % loss\n",
    "print 'sanity check: %f' % (-np.log(0.1))\n",
    "print(\"end...\")"
   ]
  },
  {
   "cell_type": "markdown",
   "metadata": {},
   "source": [
    "## Inline Question 1:\n",
    "Why do we expect our loss to be close to -log(0.1)? Explain briefly.**\n",
    "\n",
    "**Your answer:** *Fill this in*\n",
    "1.for any ith row,softmax function is: np.exp(score[y[i])/np.sum(np.exp(scores[i])). when we initize the weight, it is very small,<br/> and close to zero. so score,that is W multipy X, is close to zero; as a result,numerator is 1, and denominator is number of classes,<br/> in our case, it is 10.<br/>\n",
    "so 1/10 is equal to 0.1(as softmax_result).<br/>\n",
    "for the loss function, it is -np.log(softmax_result), so it is -np.log(0.1)"
   ]
  },
  {
   "cell_type": "code",
   "execution_count": 43,
   "metadata": {
    "collapsed": false,
    "scrolled": true
   },
   "outputs": [
    {
     "name": "stdout",
     "output_type": "stream",
     "text": [
      "start...\n",
      "numerical: 2.631416 analytic: 2.631416, relative error: 9.838629e-09\n",
      "numerical: 0.530180 analytic: 0.530180, relative error: 1.920618e-08\n",
      "numerical: 0.076038 analytic: 0.076038, relative error: 9.452257e-08\n",
      "numerical: 0.833199 analytic: 0.833199, relative error: 6.124216e-09\n",
      "numerical: 0.067454 analytic: 0.067454, relative error: 3.978997e-07\n",
      "numerical: -0.712539 analytic: -0.712539, relative error: 3.000484e-08\n",
      "numerical: 2.203213 analytic: 2.203213, relative error: 4.651518e-08\n",
      "numerical: -0.414549 analytic: -0.414549, relative error: 4.316684e-08\n",
      "numerical: 2.724464 analytic: 2.724464, relative error: 1.442143e-08\n",
      "numerical: 0.764052 analytic: 0.764051, relative error: 9.819666e-08\n",
      "....\n",
      "numerical: 0.519569 analytic: 0.519569, relative error: 4.270785e-08\n",
      "numerical: 0.628154 analytic: 0.628154, relative error: 4.701936e-08\n",
      "numerical: -0.213334 analytic: -0.213334, relative error: 8.001682e-08\n",
      "numerical: 1.904638 analytic: 1.904638, relative error: 1.414706e-08\n",
      "numerical: -1.240075 analytic: -1.240075, relative error: 1.965052e-08\n",
      "numerical: 0.504981 analytic: 0.504981, relative error: 1.142394e-08\n",
      "numerical: 2.483142 analytic: 2.483142, relative error: 2.945340e-08\n",
      "numerical: -0.259100 analytic: -0.259100, relative error: 1.296286e-07\n",
      "numerical: 0.245232 analytic: 0.245232, relative error: 2.615901e-08\n",
      "numerical: -4.815157 analytic: -4.815158, relative error: 1.327739e-08\n",
      "end...\n"
     ]
    }
   ],
   "source": [
    "# Complete the implementation of softmax_loss_naive and implement a (naive)\n",
    "# version of the gradient that uses nested loops.\n",
    "print(\"start...\")\n",
    "loss, grad =softmax_loss_naive(W, X_dev, y_dev, 0.0) #softmax_loss_naive(W, X_dev, y_dev, 0.0)\n",
    "\n",
    "# As we did for the SVM, use numeric gradient checking as a debugging tool.\n",
    "# The numeric gradient should be close to the analytic gradient.\n",
    "from cs231n.gradient_check import grad_check_sparse\n",
    "f = lambda w: softmax_loss_naive(w, X_dev, y_dev, 0.0)[0]#softmax_loss_naive\n",
    "grad_numerical = grad_check_sparse(f, W, grad, 10)\n",
    "print(\"....\")\n",
    "# similar to SVM case, do another gradient check with regularization\n",
    "loss, grad = softmax_loss_naive(W, X_dev, y_dev, 1e2) #softmax_loss_naive(W, X_dev, y_dev, 1e2)\n",
    "f = lambda w: softmax_loss_naive(w, X_dev, y_dev, 1e2)[0] #softmax_loss_naive(w, X_dev, y_dev, 1e2)[0]\n",
    "grad_numerical = grad_check_sparse(f, W, grad, 10)\n",
    "print(\"end...\")"
   ]
  },
  {
   "cell_type": "code",
   "execution_count": 11,
   "metadata": {
    "collapsed": false
   },
   "outputs": [
    {
     "name": "stdout",
     "output_type": "stream",
     "text": [
      "start...\n",
      "naive loss: 2.346697e+00 computed in 0.062000s\n",
      "('dW.shape:', (3073L, 10L))\n",
      "vectorized loss: 2.346697e+00 computed in 0.005000s\n",
      "Loss difference: 0.000000\n",
      "Gradient difference: 317.727855\n",
      "end...\n"
     ]
    }
   ],
   "source": [
    "# Now that we have a naive implementation of the softmax loss function and its gradient,\n",
    "# implement a vectorized version in softmax_loss_vectorized.\n",
    "# The two versions should compute the same results, but the vectorized version should be\n",
    "# much faster.\n",
    "print(\"start...\")\n",
    "tic = time.time()\n",
    "loss_naive, grad_naive = softmax_loss_naive(W, X_dev, y_dev, 0.00001)\n",
    "toc = time.time()\n",
    "print 'naive loss: %e computed in %fs' % (loss_naive, toc - tic)\n",
    "\n",
    "from cs231n.classifiers.softmax import softmax_loss_vectorized\n",
    "tic = time.time()\n",
    "loss_vectorized, grad_vectorized = softmax_loss_vectorized(W, X_dev, y_dev, 0.00001)\n",
    "toc = time.time()\n",
    "print 'vectorized loss: %e computed in %fs' % (loss_vectorized, toc - tic)\n",
    "\n",
    "# As we did for the SVM, we use the Frobenius norm to compare the two versions\n",
    "# of the gradient.\n",
    "grad_difference = np.linalg.norm(grad_naive - grad_vectorized, ord='fro')\n",
    "print 'Loss difference: %f' % np.abs(loss_naive - loss_vectorized)\n",
    "print 'Gradient difference: %f' % grad_difference\n",
    "print(\"end...\")"
   ]
  },
  {
   "cell_type": "code",
   "execution_count": 14,
   "metadata": {
    "collapsed": false
   },
   "outputs": [
    {
     "name": "stdout",
     "output_type": "stream",
     "text": [
      "iteration 0 / 300: loss 21.566723\n",
      "iteration 100 / 300: loss 5.570434\n",
      "iteration 200 / 300: loss 3.344036\n",
      "('learning rate:', 1e-05, 'regular_strengths:', 1000.0, 'accuracy_test:', 0.29199999999999998)\n",
      "iteration 0 / 300: loss 157.652050\n",
      "iteration 100 / 300: loss 4.589216\n",
      "iteration 200 / 300: loss 4.345975\n",
      "iteration 0 / 300: loss 1551.423755\n",
      "iteration 100 / 300: loss 19.719570\n",
      "iteration 200 / 300: loss 16.984240\n",
      "iteration 0 / 300: loss 7689.858386\n",
      "iteration 100 / 300: loss inf\n",
      "iteration 200 / 300: loss inf\n",
      "iteration 0 / 300: loss 15423.912099\n",
      "iteration 100 / 300: loss inf\n",
      "iteration 200 / 300: loss inf\n",
      "iteration 0 / 300: loss 20.666448\n",
      "iteration 100 / 300: loss 15.222456\n",
      "iteration 200 / 300: loss 12.680169\n",
      "iteration 0 / 300: loss 161.546151\n",
      "iteration 100 / 300: loss 22.541995\n",
      "iteration 200 / 300: loss 4.684633\n",
      "('learning rate:', 1e-06, 'regular_strengths:', 10000.0, 'accuracy_test:', 0.35499999999999998)\n",
      "iteration 0 / 300: loss 1535.325406\n",
      "iteration 100 / 300: loss 2.125825\n",
      "iteration 200 / 300: loss 2.154074\n",
      "iteration 0 / 300: loss 7755.703397\n",
      "iteration 100 / 300: loss 2.256270\n",
      "iteration 200 / 300: loss 2.253548\n",
      "iteration 0 / 300: loss 15216.098147\n",
      "iteration 100 / 300: loss 2.292414\n",
      "iteration 200 / 300: loss 2.312516\n",
      "iteration 0 / 300: loss 21.905636\n",
      "iteration 100 / 300: loss 7.455989\n",
      "iteration 200 / 300: loss 3.873811\n",
      "iteration 0 / 300: loss 161.112739\n",
      "iteration 100 / 300: loss 2.103104\n",
      "iteration 200 / 300: loss 2.151846\n",
      "iteration 0 / 300: loss 1538.118706\n",
      "iteration 100 / 300: loss 3.236704\n",
      "iteration 200 / 300: loss 4.425375\n",
      "iteration 0 / 300: loss 7650.363813\n",
      "iteration 100 / 300: loss inf\n",
      "iteration 200 / 300: loss inf\n",
      "iteration 0 / 300: loss 15262.146843\n",
      "iteration 100 / 300: loss inf\n",
      "iteration 200 / 300: loss inf\n",
      "iteration 0 / 300: loss 21.419735\n",
      "iteration 100 / 300: loss 18.674710\n",
      "iteration 200 / 300: loss 17.955247\n",
      "iteration 0 / 300: loss 159.061644\n",
      "iteration 100 / 300: loss 129.194135\n",
      "iteration 200 / 300: loss 105.628034\n",
      "iteration 0 / 300: loss 1538.593560\n",
      "iteration 100 / 300: loss 207.152144\n",
      "iteration 200 / 300: loss 29.503026\n",
      "iteration 0 / 300: loss 7795.518730\n",
      "iteration 100 / 300: loss 2.535200\n",
      "iteration 200 / 300: loss 2.231638\n",
      "iteration 0 / 300: loss 15293.227867\n",
      "iteration 100 / 300: loss 2.270029\n",
      "iteration 200 / 300: loss 2.274014\n",
      "iteration 0 / 300: loss 20.498882\n",
      "iteration 100 / 300: loss 18.339251\n",
      "iteration 200 / 300: loss 17.071856\n",
      "iteration 0 / 300: loss 161.677635\n",
      "iteration 100 / 300: loss 97.093348\n",
      "iteration 200 / 300: loss 59.196908\n",
      "iteration 0 / 300: loss 1539.233824\n",
      "iteration 100 / 300: loss 11.786407\n",
      "iteration 200 / 300: loss 2.289268\n",
      "iteration 0 / 300: loss 7699.379892\n",
      "iteration 100 / 300: loss 2.262657\n",
      "iteration 200 / 300: loss 2.241130\n",
      "iteration 0 / 300: loss 15439.059921\n",
      "iteration 100 / 300: loss 2.261146\n",
      "iteration 200 / 300: loss 2.271273\n",
      "iteration 0 / 300: loss 21.072726\n",
      "iteration 100 / 300: loss 16.719460\n",
      "iteration 200 / 300: loss 14.892482\n",
      "iteration 0 / 300: loss 156.296695\n",
      "iteration 100 / 300: loss 57.055217\n",
      "iteration 200 / 300: loss 22.072412\n",
      "iteration 0 / 300: loss 1564.997526\n",
      "iteration 100 / 300: loss 2.189669\n",
      "iteration 200 / 300: loss 2.145372\n",
      "iteration 0 / 300: loss 7702.119920\n",
      "iteration 100 / 300: loss 2.245884\n",
      "iteration 200 / 300: loss 2.263634\n",
      "iteration 0 / 300: loss 15284.647750\n",
      "iteration 100 / 300: loss 2.283438\n",
      "iteration 200 / 300: loss 2.267644\n",
      "lr 1.000000e-07 reg 1.000000e+03 train accuracy: 0.172367 val accuracy: 0.183000\n",
      "lr 1.000000e-07 reg 1.000000e+04 train accuracy: 0.186163 val accuracy: 0.176000\n",
      "lr 1.000000e-07 reg 1.000000e+05 train accuracy: 0.294163 val accuracy: 0.306000\n",
      "lr 1.000000e-07 reg 5.000000e+05 train accuracy: 0.268673 val accuracy: 0.278000\n",
      "lr 1.000000e-07 reg 1.000000e+06 train accuracy: 0.265245 val accuracy: 0.284000\n",
      "lr 2.500000e-07 reg 1.000000e+03 train accuracy: 0.209469 val accuracy: 0.221000\n",
      "lr 2.500000e-07 reg 1.000000e+04 train accuracy: 0.256429 val accuracy: 0.257000\n",
      "lr 2.500000e-07 reg 1.000000e+05 train accuracy: 0.299327 val accuracy: 0.315000\n",
      "lr 2.500000e-07 reg 5.000000e+05 train accuracy: 0.258612 val accuracy: 0.272000\n",
      "lr 2.500000e-07 reg 1.000000e+06 train accuracy: 0.249490 val accuracy: 0.238000\n",
      "lr 5.000000e-07 reg 1.000000e+03 train accuracy: 0.252163 val accuracy: 0.256000\n",
      "lr 5.000000e-07 reg 1.000000e+04 train accuracy: 0.328367 val accuracy: 0.331000\n",
      "lr 5.000000e-07 reg 1.000000e+05 train accuracy: 0.290143 val accuracy: 0.312000\n",
      "lr 5.000000e-07 reg 5.000000e+05 train accuracy: 0.280673 val accuracy: 0.280000\n",
      "lr 5.000000e-07 reg 1.000000e+06 train accuracy: 0.251776 val accuracy: 0.289000\n",
      "lr 1.000000e-06 reg 1.000000e+03 train accuracy: 0.296918 val accuracy: 0.312000\n",
      "lr 1.000000e-06 reg 1.000000e+04 train accuracy: 0.364449 val accuracy: 0.352000\n",
      "lr 1.000000e-06 reg 1.000000e+05 train accuracy: 0.309000 val accuracy: 0.329000\n",
      "lr 1.000000e-06 reg 5.000000e+05 train accuracy: 0.251306 val accuracy: 0.251000\n",
      "lr 1.000000e-06 reg 1.000000e+06 train accuracy: 0.240082 val accuracy: 0.244000\n",
      "lr 5.000000e-06 reg 1.000000e+03 train accuracy: 0.369469 val accuracy: 0.344000\n",
      "lr 5.000000e-06 reg 1.000000e+04 train accuracy: 0.287265 val accuracy: 0.283000\n",
      "lr 5.000000e-06 reg 1.000000e+05 train accuracy: 0.147224 val accuracy: 0.159000\n",
      "lr 5.000000e-06 reg 5.000000e+05 train accuracy: 0.075776 val accuracy: 0.071000\n",
      "lr 5.000000e-06 reg 1.000000e+06 train accuracy: 0.101204 val accuracy: 0.102000\n",
      "lr 1.000000e-05 reg 1.000000e+03 train accuracy: 0.294735 val accuracy: 0.314000\n",
      "lr 1.000000e-05 reg 1.000000e+04 train accuracy: 0.207673 val accuracy: 0.199000\n",
      "lr 1.000000e-05 reg 1.000000e+05 train accuracy: 0.124898 val accuracy: 0.113000\n",
      "lr 1.000000e-05 reg 5.000000e+05 train accuracy: 0.097816 val accuracy: 0.103000\n",
      "lr 1.000000e-05 reg 1.000000e+06 train accuracy: 0.083878 val accuracy: 0.088000\n",
      "best validation accuracy achieved during cross-validation: 0.352000\n"
     ]
    }
   ],
   "source": [
    "# Use the validation set to tune hyperparameters (regularization strength and\n",
    "# learning rate). You should experiment with different ranges for the learning\n",
    "# rates and regularization strengths; if you are careful you should be able to\n",
    "# get a classification accuracy of over 0.35 on the validation set. --->lr lr 1.000000e-06 reg 1.000000e+04 train accuracy: 0.358857 val accuracy: 0.355000\n",
    "#lr 1.000000e-06 reg 1.000000e+04 train accuracy: 0.364449 val accuracy: 0.352000                                                                        \n",
    "from cs231n.classifiers import Softmax\n",
    "results = {}\n",
    "best_val = -1\n",
    "best_softmax = None\n",
    "learning_rates =[1e-5,1e-6,5e-6,1e-7,2.5e-7, 5e-7] #[1e-7, 5e-7]--->[1e-4,1e-5,1e-6,5e-6,1e-7,2.5e-7, 5e-7,1e-8]\n",
    "regularization_strengths =[1e3,1e4,1e5,5e5,1e6] #[5e4, 1e8]-->[1e3,1e4,5e4,5e5,1e6,5e6,1e7,1e8,1e9]\n",
    "\n",
    "################################################################################\n",
    "# TODO:                                                                        #\n",
    "# Use the validation set to set the learning rate and regularization strength. #\n",
    "# This should be identical to the validation that you did for the SVM; save    #\n",
    "# the best trained softmax classifer in best_softmax.                          #\n",
    "################################################################################\n",
    "#pass\n",
    "softmax = Softmax()\n",
    "for lr in learning_rates:\n",
    "    for r in regularization_strengths:\n",
    "        #1.train\n",
    "        softmax.train(X_train, y_train, learning_rate=lr, reg=r, \n",
    "                      num_iters=300, verbose=True) #1500\n",
    "        #2.predict,and calculate accuracy\n",
    "        y_train_pred=softmax.predict(X_train)\n",
    "        y_val_pred=softmax.predict(X_val)\n",
    "        accuracy_train=np.mean(y_train_pred==y_train)\n",
    "        accuracy_val=np.mean(y_val_pred==y_val)\n",
    "        #3.save result\n",
    "        results[(lr,r)]=(accuracy_train,accuracy_val)\n",
    "        #4.if better, save as best_val,best_softmax\n",
    "        if accuracy_val>best_val:\n",
    "            best_val=accuracy_val\n",
    "            best_softmax=softmax\n",
    "            y_test_pred=softmax.predict(X_test)\n",
    "            accuracy_test=np.mean(y_test_pred==y_test)\n",
    "            print(\"learning rate:\",lr,\"regular_strengths:\",r,\"accuracy_test:\",accuracy_test)\n",
    "################################################################################\n",
    "#                              END OF YOUR CODE                                #\n",
    "################################################################################\n",
    "    \n",
    "# Print out results.\n",
    "for lr, reg in sorted(results):\n",
    "    train_accuracy, val_accuracy = results[(lr, reg)]\n",
    "    print 'lr %e reg %e train accuracy: %f val accuracy: %f' % (\n",
    "                lr, reg, train_accuracy, val_accuracy)\n",
    "    \n",
    "print 'best validation accuracy achieved during cross-validation: %f' % best_val"
   ]
  },
  {
   "cell_type": "code",
   "execution_count": 15,
   "metadata": {
    "collapsed": false
   },
   "outputs": [
    {
     "name": "stdout",
     "output_type": "stream",
     "text": [
      "softmax on raw pixels final test set accuracy: 0.278000\n"
     ]
    }
   ],
   "source": [
    "# evaluate on test set\n",
    "# Evaluate the best softmax on test set\n",
    "y_test_pred = best_softmax.predict(X_test)\n",
    "test_accuracy = np.mean(y_test == y_test_pred)\n",
    "print 'softmax on raw pixels final test set accuracy: %f' % (test_accuracy, )"
   ]
  },
  {
   "cell_type": "code",
   "execution_count": 21,
   "metadata": {
    "collapsed": false
   },
   "outputs": [
    {
     "name": "stdout",
     "output_type": "stream",
     "text": [
      "iteration 0 / 1500: loss 159.923103\n",
      "iteration 100 / 1500: loss 48.127845\n",
      "iteration 200 / 1500: loss 15.642872\n",
      "iteration 300 / 1500: loss 6.037742\n",
      "iteration 400 / 1500: loss 3.250453\n",
      "iteration 500 / 1500: loss 2.375949\n",
      "iteration 600 / 1500: loss 2.024426\n",
      "iteration 700 / 1500: loss 1.878015\n",
      "iteration 800 / 1500: loss 1.925388\n",
      "iteration 900 / 1500: loss 1.924377\n",
      "iteration 1000 / 1500: loss 1.890963\n",
      "iteration 1100 / 1500: loss 1.861754\n",
      "iteration 1200 / 1500: loss 1.955411\n",
      "iteration 1300 / 1500: loss 1.976125\n",
      "iteration 1400 / 1500: loss 2.033321\n",
      "('accuracy_test:', 0.372)\n"
     ]
    }
   ],
   "source": [
    "#evaluate on test set using best trained model\n",
    "softmax=Softmax()\n",
    "lr=6e-7#1e-6\n",
    "r=1e4\n",
    "softmax.train(X_train, y_train, learning_rate=lr, reg=r, \n",
    "                      num_iters=1500, verbose=True)\n",
    "best_softmax=softmax\n",
    "y_test_pred=softmax.predict(X_test)\n",
    "accuracy_test=np.mean(y_test_pred==y_test)\n",
    "print(\"accuracy_test:\",accuracy_test)"
   ]
  },
  {
   "cell_type": "code",
   "execution_count": 22,
   "metadata": {
    "collapsed": false
   },
   "outputs": [
    {
     "name": "stdout",
     "output_type": "stream",
     "text": [
      "start...\n",
      "end...\n"
     ]
    },
    {
     "data": {
      "image/png": "[encoded data removed]",
      "text/plain": [
       "<matplotlib.figure.Figure at 0xe7daf60>"
      ]
     },
     "metadata": {},
     "output_type": "display_data"
    }
   ],
   "source": [
    "# Visualize the learned weights for each class\n",
    "print(\"start...\")\n",
    "w = best_softmax.W[:-1,:] # strip out the bias\n",
    "w = w.reshape(32, 32, 3, 10)\n",
    "\n",
    "w_min, w_max = np.min(w), np.max(w)\n",
    "\n",
    "classes = ['plane', 'car', 'bird', 'cat', 'deer', 'dog', 'frog', 'horse', 'ship', 'truck']\n",
    "for i in xrange(10):\n",
    "  plt.subplot(2, 5, i + 1)\n",
    "  \n",
    "  # Rescale the weights to be between 0 and 255\n",
    "  wimg = 255.0 * (w[:, :, :, i].squeeze() - w_min) / (w_max - w_min)\n",
    "  plt.imshow(wimg.astype('uint8'))\n",
    "  plt.axis('off')\n",
    "  plt.title(classes[i])\n",
    "print(\"end...\")"
   ]
  },
  {
   "cell_type": "markdown",
   "metadata": {},
   "source": [
    "Comments: as i can see from above 'weight' images, some visualized version of weight can be easily related to their real categories.<br/>\n",
    "for example, for picture with lable 'horse', it is easy to recognize it is a horse. it also true for 'car'.<br/>\n",
    "and although it is not so easy to see the shape of 'ship' for label picture,but in the above pictue there is lots of blue colors, which is simliar with real ship image(ship usually on the sea, and sea's color is blue)"
   ]
  }
 ],
 "metadata": {
  "kernelspec": {
   "display_name": "Python 2",
   "language": "python",
   "name": "python2"
  },
  "language_info": {
   "codemirror_mode": {
    "name": "ipython",
    "version": 2
   },
   "file_extension": ".py",
   "mimetype": "text/x-python",
   "name": "python",
   "nbconvert_exporter": "python",
   "pygments_lexer": "ipython2",
   "version": "2.7.11"
  }
 },
 "nbformat": 4,
 "nbformat_minor": 0
}
